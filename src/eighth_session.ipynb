{
  "nbformat": 4,
  "nbformat_minor": 0,
  "metadata": {
    "colab": {
      "provenance": [],
      "authorship_tag": "ABX9TyMGSXnmhsCrglDZVQy0Ry+a",
      "include_colab_link": true
    },
    "kernelspec": {
      "name": "python3",
      "display_name": "Python 3"
    },
    "language_info": {
      "name": "python"
    }
  },
  "cells": [
    {
      "cell_type": "markdown",
      "metadata": {
        "id": "view-in-github",
        "colab_type": "text"
      },
      "source": [
        "<a href=\"https://colab.research.google.com/github/YoussefGharbi-oss/KidsTrainingCoding/blob/main/src/eighth_session.ipynb\" target=\"_parent\"><img src=\"https://colab.research.google.com/assets/colab-badge.svg\" alt=\"Open In Colab\"/></a>"
      ]
    },
    {
      "cell_type": "code",
      "execution_count": 23,
      "metadata": {
        "colab": {
          "base_uri": "https://localhost:8080/"
        },
        "id": "J6rf-tsIXoVv",
        "outputId": "3013c127-faea-4269-db4e-c7e5743d3b35"
      },
      "outputs": [
        {
          "output_type": "stream",
          "name": "stdout",
          "text": [
            "True\n",
            "javascript\n",
            "ahmed\n",
            "name ahmed\n",
            "age 16\n",
            "skills ['html', 'css', 'javascript', 'python', 'java']\n",
            "isStudent True\n",
            "name ahmed\n",
            "age 16\n",
            "skills ['html', 'css', 'javascript', 'python', 'java']\n",
            "isStudent True\n",
            "the Dark Knight\n"
          ]
        }
      ],
      "source": [
        "#Dict :\n",
        "#a key value object\n",
        "#creation d'un dictionnaire\n",
        "#key type (int , string, float , bool) -> primitive\n",
        "student={\n",
        "    \"name\" : \"ahmed\",\n",
        "    \"age\" : 16 ,\n",
        "    \"skills\" : [\"html\" , \"css\" , \"javascript\" , \"python\" , \"java\"] ,\n",
        "    \"isStudent\" : True ,\n",
        "}\n",
        "#dict not ordred(not [0] [-1] )\n",
        "#Acess element :\n",
        "print(student['isStudent'])\n",
        "print(student[\"skills\"][2])\n",
        "print(student[\"name\"])\n",
        "\n",
        "#insert element :\n",
        "student[\"note\"] = 17.5\n",
        "student\n",
        "\n",
        "#get a value\n",
        "student.get(\"age\")\n",
        "#list all keys\n",
        "student.keys()\n",
        "#list all values\n",
        "student.values()\n",
        "#how to delete\n",
        "#using del\n",
        "del student['isStudent']\n",
        "#using pop (key)\n",
        "student.pop(\"note\")\n",
        "#remove last item\n",
        "student.popitem()\n",
        "student={\n",
        "    \"name\" : \"ahmed\",\n",
        "    \"age\" : 16 ,\n",
        "    \"skills\" : [\"html\" , \"css\" , \"javascript\" , \"python\" , \"java\"] ,\n",
        "    \"isStudent\" : True ,\n",
        "}\n",
        "#loop through dict :\n",
        "for key in student :\n",
        "  print(key , student[key])\n",
        "\n",
        "for i,j in student.items() :\n",
        "  print(i,j)\n",
        "\n",
        "\n",
        "movies_library = {\n",
        "    \"movie1\" : {\n",
        "        \"title\" : \"the Dark Knight\" ,\n",
        "        \"Released Year\" : 2011  ,\n",
        "        \"rate\" : 8.30\n",
        "    },\n",
        "      \"movie2\" : {\n",
        "        \"title\" : \"openHeimer\" ,\n",
        "        \"Released Year\" : 2023  ,\n",
        "        \"rate\" : 8.30\n",
        "    },\n",
        "      \"movie3\" : {\n",
        "        \"title\" : \"barbie\" ,\n",
        "        \"Released Year\" : 2023  ,\n",
        "        \"rate\" : 8.30\n",
        "    },\n",
        "\n",
        "}\n",
        "print(movies_library[\"movie1\"]['title'])"
      ]
    },
    {
      "cell_type": "code",
      "source": [
        "\n",
        "def get_values (my_dict) :\n",
        "  return my_dict.values()\n",
        "\n",
        "def get_keys (my_dict) :\n",
        "  return my_dict.keys()\n",
        "student={\n",
        "    \"name\" : \"ahmed\",\n",
        "    \"age\" : 16 ,\n",
        "    \"skills\" : [\"html\" , \"css\" , \"javascript\" , \"python\" , \"java\"] ,\n",
        "    \"isStudent\" : True ,\n",
        "}\n",
        "get_keys(student)\n",
        "get_values(student)"
      ],
      "metadata": {
        "colab": {
          "base_uri": "https://localhost:8080/"
        },
        "id": "OOtESLkrA1ws",
        "outputId": "9d662317-9717-42db-c45a-cf9df6320ad5"
      },
      "execution_count": 15,
      "outputs": [
        {
          "output_type": "execute_result",
          "data": {
            "text/plain": [
              "dict_values(['ahmed', 16, ['html', 'css', 'javascript', 'python', 'java'], True])"
            ]
          },
          "metadata": {},
          "execution_count": 15
        }
      ]
    }
  ]
}