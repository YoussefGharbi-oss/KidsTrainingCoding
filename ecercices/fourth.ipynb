{
  "nbformat": 4,
  "nbformat_minor": 0,
  "metadata": {
    "colab": {
      "provenance": [],
      "authorship_tag": "ABX9TyPXyyVGBWxvDrvpEMsaGGDT",
      "include_colab_link": true
    },
    "kernelspec": {
      "name": "python3",
      "display_name": "Python 3"
    },
    "language_info": {
      "name": "python"
    }
  },
  "cells": [
    {
      "cell_type": "markdown",
      "metadata": {
        "id": "view-in-github",
        "colab_type": "text"
      },
      "source": [
        "<a href=\"https://colab.research.google.com/github/YoussefGharbi-oss/KidsTrainingCoding/blob/main/ecercices/fourth.ipynb\" target=\"_parent\"><img src=\"https://colab.research.google.com/assets/colab-badge.svg\" alt=\"Open In Colab\"/></a>"
      ]
    },
    {
      "cell_type": "code",
      "execution_count": null,
      "metadata": {
        "colab": {
          "base_uri": "https://localhost:8080/"
        },
        "id": "Y3rTdhGwHW9a",
        "outputId": "4447a0c5-8396-45ad-966e-d99b5a876c9e"
      },
      "outputs": [
        {
          "output_type": "stream",
          "name": "stdout",
          "text": [
            "Not empty \n"
          ]
        }
      ],
      "source": [
        "#check if list empty or not\n",
        "my_list = [5,6,4]\n",
        "length= len(my_list)\n",
        "if length > 0 :\n",
        "  print(\"Not empty \")\n",
        "else :\n",
        "  print(\"empty\")\n",
        "\n"
      ]
    },
    {
      "cell_type": "code",
      "source": [],
      "metadata": {
        "colab": {
          "base_uri": "https://localhost:8080/"
        },
        "id": "9aG1WBKwQDhx",
        "outputId": "0d491618-7868-4f9d-cac9-9ae64c07bd85"
      },
      "execution_count": null,
      "outputs": [
        {
          "output_type": "stream",
          "name": "stdout",
          "text": [
            "ahmed ahmed ahmed ahmed ahmed ahmed "
          ]
        }
      ]
    }
  ]
}